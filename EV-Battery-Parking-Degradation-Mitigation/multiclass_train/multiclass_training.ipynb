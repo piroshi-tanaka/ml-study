{
  "cells": [
    {
      "cell_type": "markdown",
      "metadata": {},
      "source": "# EV長時間放置クラスタ予測 Notebook\n要件に沿ってhashvinごとにデータ前処理・学習・評価を実施します。"
    },
    {
      "cell_type": "markdown",
      "metadata": {},
      "source": "## 0. セットアップ\n依存パッケージの読み込みとパス設定を行います。"
    },
    {
      "cell_type": "code",
      "metadata": {},
      "execution_count": null,
      "outputs": [],
      "source": "from pathlib import Path\nimport sys\nimport json\nimport pandas as pd\n\n# パス設定（このNotebookは multiclass_train ディレクトリで実行）\nPROJECT_DIR = Path.cwd()\nif str(PROJECT_DIR.parent) not in sys.path:\n    sys.path.append(str(PROJECT_DIR.parent))\n\nfrom multiclass_train.pipeline import PipelineConfig, HashvinProcessor\nfrom multiclass_train.trainer import train_and_evaluate"
    },
    {
      "cell_type": "markdown",
      "metadata": {},
      "source": "## 1. 設定\nパイプラインとAutoGluonの主要パラメータを定義します。"
    },
    {
      "cell_type": "code",
      "metadata": {},
      "execution_count": null,
      "outputs": [],
      "source": "pipeline_config = PipelineConfig(\n    head_k=10,\n    enable_station_type=False,  # TODO: ステーション種別利用時は True に設定\n)\n\nautogluon_presets = 'medium_quality_faster_train'\nautogluon_time_limit = 300  # 秒。データ量に応じて調整\neval_thresholds = (0.5, 0.7, 0.9)"
    },
    {
      "cell_type": "markdown",
      "metadata": {},
      "source": "## 2. データ読込\nCSVを読み込み、対象のhashvin一覧を確認します。"
    },
    {
      "cell_type": "code",
      "metadata": {},
      "execution_count": null,
      "outputs": [],
      "source": "SESSIONS_PATH = PROJECT_DIR / \"ev_sessions_1.csv\"\nCHARGE_PATH = PROJECT_DIR / \"ev_charge_to_long_inactive.csv\"\n\ncharge_df = pd.read_csv(CHARGE_PATH)\nsessions_df = pd.read_csv(SESSIONS_PATH)\n\nhashvin_list = sorted(charge_df[\"hashvin\"].unique())\ntarget_hashvins = hashvin_list  # 一部だけ試す場合はリストを編集\nprint(f\"hashvin count: {len(hashvin_list)}\")\nhashvin_list"
    },
    {
      "cell_type": "markdown",
      "metadata": {},
      "source": "## 3. 学習・評価実行\nhashvinごとにパイプラインを実行し、結果をresult/以下へ保存します。"
    },
    {
      "cell_type": "code",
      "metadata": {},
      "execution_count": null,
      "outputs": [],
      "source": "RESULT_ROOT = PROJECT_DIR / \"result\"\nRESULT_ROOT.mkdir(parents=True, exist_ok=True)\n\nmetrics_summary = []\nfor hashvin in target_hashvins:\n    print(f\"=== Processing {hashvin} ===\")\n    charge_subset = charge_df[charge_df[\"hashvin\"] == hashvin].copy()\n    sessions_subset = sessions_df[sessions_df[\"hashvin\"] == hashvin].copy()\n\n    processor = HashvinProcessor(hashvin, charge_subset, sessions_subset, pipeline_config)\n    result = processor.build_features()\n\n    hashvin_dir = RESULT_ROOT / hashvin\n    metrics = train_and_evaluate(\n        result,\n        hashvin_dir,\n        enable_station_type=pipeline_config.enable_station_type,\n        autogluon_presets=autogluon_presets,\n        autogluon_time_limit=autogluon_time_limit,\n        eval_thresholds=eval_thresholds,\n    )\n    metrics_summary.append(metrics)\n\nif metrics_summary:\n    summary_path_json = RESULT_ROOT / \"metrics_summary.json\"\n    summary_path_csv = RESULT_ROOT / \"metrics_summary.csv\"\n    summary_path_json.write_text(json.dumps(metrics_summary, indent=2, ensure_ascii=False), encoding=\"utf-8\")\n    pd.DataFrame(metrics_summary).to_csv(summary_path_csv, index=False)\n    display(pd.DataFrame(metrics_summary))\nelse:\n    print(\"No hashvin processed. Check target_hashvins list.\")"
    },
    {
      "cell_type": "markdown",
      "metadata": {},
      "source": "## 4. 出力物\n- `result/<hashvin>/`: AutoGluonモデル、特徴量テーブル、評価結果、予測結果。\n- `result/metrics_summary.json|csv`: hashvinごとの指標サマリ。"
    }
  ],
  "metadata": {
    "kernelspec": {
      "display_name": "Python 3",
      "language": "python",
      "name": "python3"
    },
    "language_info": {
      "name": "python",
      "version": "3.12"
    }
  },
  "nbformat": 4,
  "nbformat_minor": 5
}